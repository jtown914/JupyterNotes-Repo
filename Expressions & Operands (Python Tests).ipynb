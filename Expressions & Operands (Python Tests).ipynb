{
 "cells": [
  {
   "cell_type": "code",
   "execution_count": 1,
   "metadata": {},
   "outputs": [],
   "source": [
    "i=2"
   ]
  },
  {
   "cell_type": "code",
   "execution_count": 2,
   "metadata": {},
   "outputs": [
    {
     "data": {
      "text/plain": [
       "False"
      ]
     },
     "execution_count": 2,
     "metadata": {},
     "output_type": "execute_result"
    }
   ],
   "source": [
    "i==3"
   ]
  },
  {
   "cell_type": "code",
   "execution_count": 3,
   "metadata": {},
   "outputs": [],
   "source": [
    "i=3"
   ]
  },
  {
   "cell_type": "code",
   "execution_count": 4,
   "metadata": {},
   "outputs": [
    {
     "data": {
      "text/plain": [
       "True"
      ]
     },
     "execution_count": 4,
     "metadata": {},
     "output_type": "execute_result"
    }
   ],
   "source": [
    "i!=4"
   ]
  },
  {
   "cell_type": "code",
   "execution_count": 5,
   "metadata": {},
   "outputs": [
    {
     "data": {
      "text/plain": [
       "False"
      ]
     },
     "execution_count": 5,
     "metadata": {},
     "output_type": "execute_result"
    }
   ],
   "source": [
    "\"AC/DC\"==\"michael Jackson\""
   ]
  },
  {
   "cell_type": "code",
   "execution_count": 22,
   "metadata": {},
   "outputs": [
    {
     "name": "stdout",
     "output_type": "stream",
     "text": [
      "Back of the line, pal!\n",
      "Go sit down somewhere!\n"
     ]
    }
   ],
   "source": [
    "age=13\n",
    "if (age>18):\n",
    "    print(\"You may Enter, kind sir.\")\n",
    "else:\n",
    "    print (\"Back of the line, pal!\")\n",
    "print(\"Go sit down somewhere!\")"
   ]
  },
  {
   "cell_type": "code",
   "execution_count": 23,
   "metadata": {},
   "outputs": [
    {
     "name": "stdout",
     "output_type": "stream",
     "text": [
      "You may Enter, kind sir.\n",
      "Go sit down somewhere!\n"
     ]
    }
   ],
   "source": [
    "age=19\n",
    "if (age>18):\n",
    "    print(\"You may Enter, kind sir.\")\n",
    "else:\n",
    "    print (\"Back of the line, pal!\")\n",
    "print(\"Go sit down somewhere!\")"
   ]
  },
  {
   "cell_type": "code",
   "execution_count": 24,
   "metadata": {},
   "outputs": [
    {
     "name": "stdout",
     "output_type": "stream",
     "text": [
      "You may Enter, kind sir.\n",
      "Go sit down somewhere!\n"
     ]
    }
   ],
   "source": [
    "age=19\n",
    "# note: a tab/indent is required for the 'print()' commands following the \"if:\" and \"else:\" conditions.\n",
    "if (age>18):\n",
    "    print(\"You may Enter, kind sir.\") #this will run if the variable meedts the first condition.\n",
    "else:\n",
    "    print (\"Back of the line, pal!\") #this (AFTER \"else:) \" will run if the variable does not meet the condition.\n",
    "print(\"Go sit down somewhere!\") #this (NOT after \"else:\") will run regardless of whether any other condition is met."
   ]
  },
  {
   "cell_type": "code",
   "execution_count": 25,
   "metadata": {},
   "outputs": [
    {
     "name": "stdout",
     "output_type": "stream",
     "text": [
      "Back of the line, pal!\n",
      "Go sit down somewhere!\n"
     ]
    }
   ],
   "source": [
    "age=11\n",
    "# note: a tab/indent is required for the 'print()' commands following the \"if:\" and \"else:\" conditions.\n",
    "if (age>18):\n",
    "    print(\"You may Enter, kind sir.\") #this will run if the variable meedts the first condition.\n",
    "else:\n",
    "    print (\"Back of the line, pal!\") #this (AFTER \"else:) \" will run if the variable does not meet the condition.\n",
    "print(\"It's gonna be a long night, so buckle up.\") #this (NOT after \"else:\") will run regardless of whether any other condition is met."
   ]
  },
  {
   "cell_type": "code",
   "execution_count": null,
   "metadata": {},
   "outputs": [],
   "source": []
  }
 ],
 "metadata": {
  "kernelspec": {
   "display_name": "Python 3.9.6 64-bit",
   "language": "python",
   "name": "python3"
  },
  "language_info": {
   "codemirror_mode": {
    "name": "ipython",
    "version": 3
   },
   "file_extension": ".py",
   "mimetype": "text/x-python",
   "name": "python",
   "nbconvert_exporter": "python",
   "pygments_lexer": "ipython3",
   "version": "3.9.6"
  },
  "orig_nbformat": 4,
  "vscode": {
   "interpreter": {
    "hash": "31f2aee4e71d21fbe5cf8b01ff0e069b9275f58929596ceb00d14d90e3e16cd6"
   }
  }
 },
 "nbformat": 4,
 "nbformat_minor": 2
}
