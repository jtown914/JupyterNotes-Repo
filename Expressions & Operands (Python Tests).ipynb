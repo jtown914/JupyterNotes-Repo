{
 "cells": [
  {
   "cell_type": "code",
   "execution_count": 1,
   "metadata": {},
   "outputs": [],
   "source": [
    "i=2"
   ]
  },
  {
   "cell_type": "code",
   "execution_count": 2,
   "metadata": {},
   "outputs": [
    {
     "data": {
      "text/plain": [
       "False"
      ]
     },
     "execution_count": 2,
     "metadata": {},
     "output_type": "execute_result"
    }
   ],
   "source": [
    "i==3"
   ]
  },
  {
   "cell_type": "code",
   "execution_count": 3,
   "metadata": {},
   "outputs": [],
   "source": [
    "i=3"
   ]
  },
  {
   "cell_type": "code",
   "execution_count": 4,
   "metadata": {},
   "outputs": [
    {
     "data": {
      "text/plain": [
       "True"
      ]
     },
     "execution_count": 4,
     "metadata": {},
     "output_type": "execute_result"
    }
   ],
   "source": [
    "i!=4"
   ]
  },
  {
   "cell_type": "code",
   "execution_count": 5,
   "metadata": {},
   "outputs": [
    {
     "data": {
      "text/plain": [
       "False"
      ]
     },
     "execution_count": 5,
     "metadata": {},
     "output_type": "execute_result"
    }
   ],
   "source": [
    "\"AC/DC\"==\"michael Jackson\""
   ]
  },
  {
   "cell_type": "code",
   "execution_count": 22,
   "metadata": {},
   "outputs": [
    {
     "name": "stdout",
     "output_type": "stream",
     "text": [
      "Back of the line, pal!\n",
      "Go sit down somewhere!\n"
     ]
    }
   ],
   "source": [
    "age=13\n",
    "if (age>18):\n",
    "    print(\"You may Enter, kind sir.\")\n",
    "else:\n",
    "    print (\"Back of the line, pal!\")\n",
    "print(\"Go sit down somewhere!\")"
   ]
  },
  {
   "cell_type": "code",
   "execution_count": 23,
   "metadata": {},
   "outputs": [
    {
     "name": "stdout",
     "output_type": "stream",
     "text": [
      "You may Enter, kind sir.\n",
      "Go sit down somewhere!\n"
     ]
    }
   ],
   "source": [
    "age=19\n",
    "if (age>18):\n",
    "    print(\"You may Enter, kind sir.\")\n",
    "else:\n",
    "    print (\"Back of the line, pal!\")\n",
    "print(\"Go sit down somewhere!\")"
   ]
  },
  {
   "cell_type": "code",
   "execution_count": 24,
   "metadata": {},
   "outputs": [
    {
     "name": "stdout",
     "output_type": "stream",
     "text": [
      "You may Enter, kind sir.\n",
      "Go sit down somewhere!\n"
     ]
    }
   ],
   "source": [
    "age=19\n",
    "# note: a tab/indent is required for the 'print()' commands following the \"if:\" and \"else:\" conditions.\n",
    "if (age>18):\n",
    "    print(\"You may Enter, kind sir.\") #this will run if the variable meedts the first condition.\n",
    "else:\n",
    "    print (\"Back of the line, pal!\") #this (AFTER \"else:) \" will run if the variable does not meet the condition.\n",
    "print(\"Go sit down somewhere!\") #this (NOT after \"else:\") will run regardless of whether any other condition is met."
   ]
  },
  {
   "cell_type": "code",
   "execution_count": 25,
   "metadata": {},
   "outputs": [
    {
     "name": "stdout",
     "output_type": "stream",
     "text": [
      "Back of the line, pal!\n",
      "Go sit down somewhere!\n"
     ]
    }
   ],
   "source": [
    "age=11\n",
    "# note: a tab/indent is required for the 'print()' commands following the \"if:\" and \"else:\" conditions.\n",
    "if (age>18):\n",
    "    print(\"You may Enter, kind sir.\") #this will run if the variable meedts the first condition.\n",
    "else:\n",
    "    print (\"Back of the line, pal!\") #this (AFTER \"else:) \" will run if the variable does not meet the condition.\n",
    "print(\"It's gonna be a long night, so buckle up.\") #this (NOT after \"else:\") will run regardless of whether any other condition is met."
   ]
  },
  {
   "cell_type": "code",
   "execution_count": 26,
   "metadata": {},
   "outputs": [
    {
     "name": "stdout",
     "output_type": "stream",
     "text": [
      "You should be in line for the Goofy-Goobers in Concert.\n",
      "Okay, move on now. Thank you, next!\n"
     ]
    }
   ],
   "source": [
    "age=12\n",
    "if(age>=19):\n",
    "    print(\"You may attend the AC/DC Showing\")\n",
    "elif(age==18):\n",
    "    print(\"You can attend Pink Floyd's performance but not AC/DC's performance\")\n",
    "else:\n",
    "    print(\"You should be in line for the Goofy-Goobers in Concert.\")\n",
    "print(\"Okay, move on now. Thank you, next!\")"
   ]
  },
  {
   "cell_type": "code",
   "execution_count": 27,
   "metadata": {},
   "outputs": [
    {
     "name": "stdout",
     "output_type": "stream",
     "text": [
      "You should be in line for the Goofy-Goobers in Concert.\n",
      "Okay, move on now. Thank you, next!\n"
     ]
    }
   ],
   "source": [
    "age=17\n",
    "if(age>=19):\n",
    "    print(\"You may attend the AC/DC Showing\")\n",
    "elif(age==18):\n",
    "    print(\"You can attend Pink Floyd's performance but not AC/DC's performance\")\n",
    "else:\n",
    "    print(\"You should be in line for the Goofy-Goobers in Concert.\")\n",
    "print(\"Okay, move on now. Thank you, next!\")"
   ]
  },
  {
   "cell_type": "code",
   "execution_count": 28,
   "metadata": {},
   "outputs": [
    {
     "name": "stdout",
     "output_type": "stream",
     "text": [
      "You may attend the AC/DC Showing\n",
      "Okay, move on now. Thank you, next!\n"
     ]
    }
   ],
   "source": [
    "age=34\n",
    "if(age>=19):\n",
    "    print(\"You may attend the AC/DC Showing\")\n",
    "elif(age==18):\n",
    "    print(\"You can attend Pink Floyd's performance but not AC/DC's performance\")\n",
    "else:\n",
    "    print(\"You should be in line for the Goofy-Goobers in Concert.\")\n",
    "print(\"Okay, move on now. Thank you, next!\")"
   ]
  },
  {
   "cell_type": "code",
   "execution_count": 29,
   "metadata": {},
   "outputs": [
    {
     "name": "stdout",
     "output_type": "stream",
     "text": [
      "You can attend Pink Floyd's performance but not AC/DC's performance\n",
      "Okay, move on now. Thank you, next!\n"
     ]
    }
   ],
   "source": [
    "age=18\n",
    "if(age>=19):\n",
    "    print(\"You may attend the AC/DC Showing\")\n",
    "elif(age==18):\n",
    "    print(\"You can attend Pink Floyd's performance but not AC/DC's performance\")\n",
    "else:\n",
    "    print(\"You should be in line for the Goofy-Goobers in Concert.\")\n",
    "print(\"Okay, move on now. Thank you, next!\")"
   ]
  },
  {
   "cell_type": "code",
   "execution_count": 30,
   "metadata": {},
   "outputs": [
    {
     "name": "stdout",
     "output_type": "stream",
     "text": [
      "You should be in line for the Goofy-Goobers in Concert.\n",
      "Okay, move on now. Thank you, next!\n"
     ]
    }
   ],
   "source": [
    "age=18.5\n",
    "if(age>=19):\n",
    "    print(\"You may attend the AC/DC Showing\")\n",
    "elif(age==18):\n",
    "    print(\"You can attend Pink Floyd's performance but not AC/DC's performance\")\n",
    "else:\n",
    "    print(\"You should be in line for the Goofy-Goobers in Concert.\")\n",
    "print(\"Okay, move on now. Thank you, next!\")"
   ]
  },
  {
   "cell_type": "code",
   "execution_count": 31,
   "metadata": {},
   "outputs": [
    {
     "name": "stdout",
     "output_type": "stream",
     "text": [
      "You can attend Pink Floyd's performance but not AC/DC's performance\n",
      "Okay, move on now. Thank you, next!\n"
     ]
    }
   ],
   "source": [
    "age=18\n",
    "if(age>18):\n",
    "    print(\"You may attend the AC/DC Showing\")\n",
    "elif(age==18):\n",
    "    print(\"You can attend Pink Floyd's performance but not AC/DC's performance\")\n",
    "else:\n",
    "    print(\"You should be in line for the Goofy-Goobers in Concert.\")\n",
    "print(\"Okay, move on now. Thank you, next!\")"
   ]
  },
  {
   "cell_type": "code",
   "execution_count": 32,
   "metadata": {},
   "outputs": [
    {
     "name": "stdout",
     "output_type": "stream",
     "text": [
      "You may attend the AC/DC Showing\n",
      "Okay, move on now. Thank you, next!\n"
     ]
    }
   ],
   "source": [
    "age=18.5\n",
    "if(age>18):\n",
    "    print(\"You may attend the AC/DC Showing\")\n",
    "elif(age==18):\n",
    "    print(\"You can attend Pink Floyd's performance but not AC/DC's performance\")\n",
    "else:\n",
    "    print(\"You should be in line for the Goofy-Goobers in Concert.\")\n",
    "print(\"Okay, move on now. Thank you, next!\")"
   ]
  },
  {
   "cell_type": "code",
   "execution_count": 33,
   "metadata": {},
   "outputs": [
    {
     "name": "stdout",
     "output_type": "stream",
     "text": [
      "You should be in line for the Goofy-Goobers in Concert.\n",
      "Okay, move on now. Thank you, next!\n"
     ]
    }
   ],
   "source": [
    "age=18\n",
    "if(age>18):\n",
    "    print(\"You may attend the AC/DC Showing\")\n",
    "elif(age!=18):\n",
    "    print(\"You can attend Pink Floyd's performance but not AC/DC's performance\")\n",
    "else:\n",
    "    print(\"You should be in line for the Goofy-Goobers in Concert.\")\n",
    "print(\"Okay, move on now. Thank you, next!\")"
   ]
  },
  {
   "cell_type": "code",
   "execution_count": 39,
   "metadata": {},
   "outputs": [
    {
     "ename": "SyntaxError",
     "evalue": "invalid syntax (1874088469.py, line 3)",
     "output_type": "error",
     "traceback": [
      "\u001b[0;36m  Cell \u001b[0;32mIn [39], line 3\u001b[0;36m\u001b[0m\n\u001b[0;31m    if(age not>=21)\u001b[0m\n\u001b[0m              ^\u001b[0m\n\u001b[0;31mSyntaxError\u001b[0m\u001b[0;31m:\u001b[0m invalid syntax\n"
     ]
    }
   ],
   "source": [
    "age=22\n",
    "## NOT —> if the input is TRUE, then not(TRUE) will output a FALSE\n",
    "If not(age>=21):\n",
    "    print(\"You can sip some Henny.\")\n",
    "## NOT —> if the input is FALSE, then not(FALSE) will output a TRUE\n",
    "If not(age<21):\n",
    "    print(\"You gotta be 21 to ride that ride, babe!\")"
   ]
  },
  {
   "cell_type": "code",
   "execution_count": 44,
   "metadata": {},
   "outputs": [
    {
     "name": "stderr",
     "output_type": "stream",
     "text": [
      "Traceback (most recent call last):\n",
      "  File \"/Users/justin_macintosh/Library/Python/3.9/lib/python/site-packages/debugpy/_vendored/pydevd/_pydevd_bundle/pydevd_frame.py\", line 987, in trace_dispatch\n",
      "    self.do_wait_suspend(thread, frame, event, arg)\n",
      "  File \"/Users/justin_macintosh/Library/Python/3.9/lib/python/site-packages/debugpy/_vendored/pydevd/_pydevd_bundle/pydevd_frame.py\", line 164, in do_wait_suspend\n",
      "    self._args[0].do_wait_suspend(*args, **kwargs)\n",
      "  File \"/Users/justin_macintosh/Library/Python/3.9/lib/python/site-packages/debugpy/_vendored/pydevd/pydevd.py\", line 2062, in do_wait_suspend\n",
      "    keep_suspended = self._do_wait_suspend(thread, frame, event, arg, suspend_type, from_this_thread, frames_tracker)\n",
      "  File \"/Users/justin_macintosh/Library/Python/3.9/lib/python/site-packages/debugpy/_vendored/pydevd/pydevd.py\", line 2098, in _do_wait_suspend\n",
      "    time.sleep(0.01)\n",
      "KeyboardInterrupt\n"
     ]
    },
    {
     "ename": "KeyboardInterrupt",
     "evalue": "",
     "output_type": "error",
     "traceback": [
      "\u001b[0;31m---------------------------------------------------------------------------\u001b[0m",
      "\u001b[0;31mKeyboardInterrupt\u001b[0m                         Traceback (most recent call last)",
      "Cell \u001b[0;32mIn [44], line 1\u001b[0m\n\u001b[0;32m----> 1\u001b[0m age\u001b[39m=\u001b[39m\u001b[39m22\u001b[39m\n\u001b[1;32m      2\u001b[0m \u001b[39m## NOT —> if the input is TRUE, then not(TRUE) will output a FALSE\u001b[39;00m\n\u001b[1;32m      3\u001b[0m \u001b[39mif\u001b[39;00m \u001b[39mnot\u001b[39;00m(age\u001b[39m>\u001b[39m\u001b[39m=\u001b[39m\u001b[39m21\u001b[39m):\n",
      "Cell \u001b[0;32mIn [44], line 1\u001b[0m\n\u001b[0;32m----> 1\u001b[0m age\u001b[39m=\u001b[39m\u001b[39m22\u001b[39m\n\u001b[1;32m      2\u001b[0m \u001b[39m## NOT —> if the input is TRUE, then not(TRUE) will output a FALSE\u001b[39;00m\n\u001b[1;32m      3\u001b[0m \u001b[39mif\u001b[39;00m \u001b[39mnot\u001b[39;00m(age\u001b[39m>\u001b[39m\u001b[39m=\u001b[39m\u001b[39m21\u001b[39m):\n",
      "File \u001b[0;32m~/Library/Python/3.9/lib/python/site-packages/debugpy/_vendored/pydevd/_pydevd_bundle/pydevd_frame.py:987\u001b[0m, in \u001b[0;36mPyDBFrame.trace_dispatch\u001b[0;34m(self, frame, event, arg)\u001b[0m\n\u001b[1;32m    985\u001b[0m \u001b[39m# if thread has a suspend flag, we suspend with a busy wait\u001b[39;00m\n\u001b[1;32m    986\u001b[0m \u001b[39mif\u001b[39;00m info\u001b[39m.\u001b[39mpydev_state \u001b[39m==\u001b[39m STATE_SUSPEND:\n\u001b[0;32m--> 987\u001b[0m     \u001b[39mself\u001b[39;49m\u001b[39m.\u001b[39;49mdo_wait_suspend(thread, frame, event, arg)\n\u001b[1;32m    988\u001b[0m     \u001b[39mreturn\u001b[39;00m \u001b[39mself\u001b[39m\u001b[39m.\u001b[39mtrace_dispatch\n\u001b[1;32m    989\u001b[0m \u001b[39melse\u001b[39;00m:\n",
      "File \u001b[0;32m~/Library/Python/3.9/lib/python/site-packages/debugpy/_vendored/pydevd/_pydevd_bundle/pydevd_frame.py:164\u001b[0m, in \u001b[0;36mPyDBFrame.do_wait_suspend\u001b[0;34m(self, *args, **kwargs)\u001b[0m\n\u001b[1;32m    163\u001b[0m \u001b[39mdef\u001b[39;00m \u001b[39mdo_wait_suspend\u001b[39m(\u001b[39mself\u001b[39m, \u001b[39m*\u001b[39margs, \u001b[39m*\u001b[39m\u001b[39m*\u001b[39mkwargs):\n\u001b[0;32m--> 164\u001b[0m     \u001b[39mself\u001b[39;49m\u001b[39m.\u001b[39;49m_args[\u001b[39m0\u001b[39;49m]\u001b[39m.\u001b[39;49mdo_wait_suspend(\u001b[39m*\u001b[39;49margs, \u001b[39m*\u001b[39;49m\u001b[39m*\u001b[39;49mkwargs)\n",
      "File \u001b[0;32m~/Library/Python/3.9/lib/python/site-packages/debugpy/_vendored/pydevd/pydevd.py:2062\u001b[0m, in \u001b[0;36mPyDB.do_wait_suspend\u001b[0;34m(self, thread, frame, event, arg, exception_type)\u001b[0m\n\u001b[1;32m   2059\u001b[0m             from_this_thread\u001b[39m.\u001b[39mappend(frame_custom_thread_id)\n\u001b[1;32m   2061\u001b[0m     \u001b[39mwith\u001b[39;00m \u001b[39mself\u001b[39m\u001b[39m.\u001b[39m_threads_suspended_single_notification\u001b[39m.\u001b[39mnotify_thread_suspended(thread_id, stop_reason):\n\u001b[0;32m-> 2062\u001b[0m         keep_suspended \u001b[39m=\u001b[39m \u001b[39mself\u001b[39;49m\u001b[39m.\u001b[39;49m_do_wait_suspend(thread, frame, event, arg, suspend_type, from_this_thread, frames_tracker)\n\u001b[1;32m   2064\u001b[0m frames_list \u001b[39m=\u001b[39m \u001b[39mNone\u001b[39;00m\n\u001b[1;32m   2066\u001b[0m \u001b[39mif\u001b[39;00m keep_suspended:\n\u001b[1;32m   2067\u001b[0m     \u001b[39m# This means that we should pause again after a set next statement.\u001b[39;00m\n",
      "File \u001b[0;32m~/Library/Python/3.9/lib/python/site-packages/debugpy/_vendored/pydevd/pydevd.py:2098\u001b[0m, in \u001b[0;36mPyDB._do_wait_suspend\u001b[0;34m(self, thread, frame, event, arg, suspend_type, from_this_thread, frames_tracker)\u001b[0m\n\u001b[1;32m   2095\u001b[0m         \u001b[39mself\u001b[39m\u001b[39m.\u001b[39m_call_input_hook()\n\u001b[1;32m   2097\u001b[0m     \u001b[39mself\u001b[39m\u001b[39m.\u001b[39mprocess_internal_commands()\n\u001b[0;32m-> 2098\u001b[0m     time\u001b[39m.\u001b[39;49msleep(\u001b[39m0.01\u001b[39;49m)\n\u001b[1;32m   2100\u001b[0m \u001b[39mself\u001b[39m\u001b[39m.\u001b[39mcancel_async_evaluation(get_current_thread_id(thread), \u001b[39mstr\u001b[39m(\u001b[39mid\u001b[39m(frame)))\n\u001b[1;32m   2102\u001b[0m \u001b[39m# process any stepping instructions\u001b[39;00m\n",
      "\u001b[0;31mKeyboardInterrupt\u001b[0m: "
     ]
    }
   ],
   "source": [
    "age=22\n",
    "## NOT —> if the input is TRUE, then not(TRUE) will output a FALSE\n",
    "if not(age>=21):\n",
    "    print(\"You can sip some Henny.\")\n",
    "## NOT —> if the input is FALSE, then not(FALSE) will output a TRUE\n",
    "if not(age<21):\n",
    "    print(\"You gotta be 21 to ride that ride, babe!\")"
   ]
  },
  {
   "cell_type": "code",
   "execution_count": 42,
   "metadata": {},
   "outputs": [
    {
     "name": "stdout",
     "output_type": "stream",
     "text": [
      "It was made int he '70s or '90s\n"
     ]
    }
   ],
   "source": [
    "album_year=1990\n",
    "if(album_year<1980) or (album_year>1989):\n",
    "    print(\"It was made int he '70s or '90s\")\n",
    "else:\n",
    "    print(\"It was maade in the '80s\")"
   ]
  },
  {
   "cell_type": "code",
   "execution_count": 46,
   "metadata": {},
   "outputs": [
    {
     "name": "stdout",
     "output_type": "stream",
     "text": [
      "You gotta be 21 to ride that ride, babe!\n"
     ]
    }
   ],
   "source": [
    "age=27\n",
    "## NOT —> if the input is TRUE, then not(TRUE) will output a FALSE\n",
    "if not(age>=21):\n",
    "    print(\"You can sip some Henny.\")\n",
    "## NOT —> if the input is FALSE, then not(FALSE) will output a TRUE\n",
    "if not(age<21):\n",
    "    print(\"You gotta be 21 to ride that ride, babe!\")"
   ]
  },
  {
   "cell_type": "code",
   "execution_count": null,
   "metadata": {},
   "outputs": [],
   "source": []
  },
  {
   "cell_type": "code",
   "execution_count": 45,
   "metadata": {},
   "outputs": [
    {
     "name": "stdout",
     "output_type": "stream",
     "text": [
      "You gotta be 21 to ride that ride, babe!\n"
     ]
    }
   ],
   "source": [
    "age=22\n",
    "## NOT —> if the input is TRUE, then not(TRUE) will output a FALSE\n",
    "if not(age>=21):\n",
    "    print(\"You can sip some Henny.\")\n",
    "## NOT —> if the input is FALSE, then not(FALSE) will output a TRUE\n",
    "if not(age<21):\n",
    "    print(\"You gotta be 21 to ride that ride, babe!\")"
   ]
  },
  {
   "cell_type": "code",
   "execution_count": 48,
   "metadata": {},
   "outputs": [
    {
     "name": "stdout",
     "output_type": "stream",
     "text": [
      "You gotta be 21 to ride that ride, babe!\n"
     ]
    }
   ],
   "source": [
    "age=20\n",
    "## NOT —> if the input is TRUE, then a \"not(TRUE)\" statement will output a FALSE result\n",
    "if not(age>=21):\n",
    "    print(\"You gotta be 21 to ride that ride, babe!\")\n",
    "## NOT —> if the input is FALSE, then \"not(FALSE)\" statement will output a TRUE result\n",
    "if not(age<21):\n",
    "    print(\"You can sip some Henny.\")"
   ]
  },
  {
   "cell_type": "code",
   "execution_count": 52,
   "metadata": {},
   "outputs": [
    {
     "name": "stdout",
     "output_type": "stream",
     "text": [
      "It's an '80s Classic! You don't know nothin' about that, young blood! This is ~real~ Grown Folks Music\n"
     ]
    }
   ],
   "source": [
    "album_year=1983\n",
    "if(album_year>1979) and (album_year<1990): #meaning AFTER 1979 *AND ALSO* BEFORE 1990 -> would therefore have to be 1980-1989, and thus is from the '80s\n",
    "    print(\"It's an '80s Classic! You don't know nothin' about that, young blood! This is ~real~ Grown Folks Music\")\n",
    "else:\n",
    "    print (\"It's not an '80s era banger.\")\n"
   ]
  },
  {
   "cell_type": "code",
   "execution_count": 53,
   "metadata": {},
   "outputs": [
    {
     "name": "stdout",
     "output_type": "stream",
     "text": [
      "It's not an '80s era banger.\n"
     ]
    }
   ],
   "source": [
    "album_year=1942\n",
    "if(album_year>1979) and (album_year<1990): #meaning AFTER 1979 *AND ALSO* BEFORE 1990 -> would therefore have to be 1980-1989, and thus is from the '80s\n",
    "    print(\"It's an '80s Classic! You don't know nothin' about that, young blood! This is ~real~ Grown Folks Music\")\n",
    "else:\n",
    "    print (\"It's not an '80s era banger.\")"
   ]
  },
  {
   "cell_type": "code",
   "execution_count": null,
   "metadata": {},
   "outputs": [],
   "source": []
  }
 ],
 "metadata": {
  "kernelspec": {
   "display_name": "Python 3.9.6 64-bit",
   "language": "python",
   "name": "python3"
  },
  "language_info": {
   "codemirror_mode": {
    "name": "ipython",
    "version": 3
   },
   "file_extension": ".py",
   "mimetype": "text/x-python",
   "name": "python",
   "nbconvert_exporter": "python",
   "pygments_lexer": "ipython3",
   "version": "3.9.6"
  },
  "orig_nbformat": 4,
  "vscode": {
   "interpreter": {
    "hash": "31f2aee4e71d21fbe5cf8b01ff0e069b9275f58929596ceb00d14d90e3e16cd6"
   }
  }
 },
 "nbformat": 4,
 "nbformat_minor": 2
}
